{
 "cells": [
  {
   "cell_type": "markdown",
   "metadata": {},
   "source": [
    "# Kernel Shape Example\n",
    "Spring 2019 AME-70790 Final Project\n",
    "\n",
    "Nicholas Geneva (ngeneva@nd.edu)\n",
    "\n",
    "Reference: Wand, M. P., & Jones, M. C. (1994). Kernel smoothing. Chapman and Hall/CRC.\n",
    "___\n",
    "In the previous example we looked at how the bandwidth of a kernel in significantly influence the kernel smoother prediction.\n",
    "Now let us look at the impact of the shape of the kernel function $K$.\n",
    "Typically, kernel functions are selected to be symmetrical.\n",
    "Although there are some theoretical arguments for doing this, symmetric kernels are primarily used because they are easy to interpret.\n",
    "To illustrate this let us again consider this arbitrary density:\n",
    "\\begin{equation}\n",
    "    f_{1}(x)=\\frac{3}{4}\\phi\\left(x | 0,1\\right) + \\frac{1}{4}\\phi\\left(x | 3/2, 1/3\\right),\n",
    "\\end{equation}\n",
    "where $\\phi(x)$ is the normal PDF making this a mixture of two Gaussians. We will use 1000 training data points to approximate this density function with the kernel density estimator."
   ]
  },
  {
   "cell_type": "code",
   "execution_count": 2,
   "metadata": {},
   "outputs": [],
   "source": [
    "import numpy as np\n",
    "from scipy.stats import norm\n",
    "import matplotlib.pyplot as plt"
   ]
  },
  {
   "cell_type": "code",
   "execution_count": 3,
   "metadata": {},
   "outputs": [],
   "source": [
    "ntrain = 1000\n",
    "band_widths = [0.06, 0.45, 0.15]\n",
    "\n",
    "# Target data\n",
    "x_test = np.linspace(-3,3,200)\n",
    "y_test = 0.75*norm.pdf(x_test, loc=0, scale=1) + 0.75*norm.pdf(x_test, loc=3/2, scale=1/3)\n",
    "# Training data\n",
    "c1 = np.sum(np.random.rand(ntrain) < 0.75)\n",
    "c2 = ntrain - c1\n",
    "x_train0 = np.concatenate([np.random.randn(c1), (1/3.)*np.random.randn(c1)+1.5], axis=0)"
   ]
  }
 ],
 "metadata": {
  "kernelspec": {
   "display_name": "Python 3",
   "language": "python",
   "name": "python3"
  },
  "language_info": {
   "codemirror_mode": {
    "name": "ipython",
    "version": 3
   },
   "file_extension": ".py",
   "mimetype": "text/x-python",
   "name": "python",
   "nbconvert_exporter": "python",
   "pygments_lexer": "ipython3",
   "version": "3.6.8"
  }
 },
 "nbformat": 4,
 "nbformat_minor": 2
}
